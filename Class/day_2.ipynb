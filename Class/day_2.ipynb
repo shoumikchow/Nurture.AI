{
 "cells": [
  {
   "cell_type": "code",
   "execution_count": 1,
   "metadata": {},
   "outputs": [
    {
     "name": "stderr",
     "output_type": "stream",
     "text": [
      "Using TensorFlow backend.\n"
     ]
    }
   ],
   "source": [
    "import keras\n",
    "from keras.datasets import mnist\n",
    "from keras.models import Sequential\n",
    "from keras.layers import Dense, Dropout, Flatten\n",
    "from keras.layers import Conv2D, MaxPooling2D\n",
    "from keras import backend as K\n",
    "from keras.utils import to_categorical\n",
    "\n",
    "batch_size = 128\n",
    "num_classes = 10\n",
    "epochs = 12\n",
    "\n",
    "img_rows, img_cols = 28, 28"
   ]
  },
  {
   "cell_type": "code",
   "execution_count": 47,
   "metadata": {
    "collapsed": true
   },
   "outputs": [],
   "source": [
    "(x_train, y_train), (x_test, y_test) = mnist.load_data()"
   ]
  },
  {
   "cell_type": "code",
   "execution_count": 19,
   "metadata": {},
   "outputs": [
    {
     "data": {
      "text/plain": [
       "(60000, 28, 28)"
      ]
     },
     "execution_count": 19,
     "metadata": {},
     "output_type": "execute_result"
    }
   ],
   "source": [
    "x_train.shape"
   ]
  },
  {
   "cell_type": "code",
   "execution_count": 48,
   "metadata": {},
   "outputs": [
    {
     "data": {
      "text/plain": [
       "array([5, 0, 4, ..., 5, 6, 8], dtype=uint8)"
      ]
     },
     "execution_count": 48,
     "metadata": {},
     "output_type": "execute_result"
    }
   ],
   "source": [
    "y_train"
   ]
  },
  {
   "cell_type": "code",
   "execution_count": 49,
   "metadata": {},
   "outputs": [
    {
     "data": {
      "text/plain": [
       "<matplotlib.image.AxesImage at 0x7f128b555a58>"
      ]
     },
     "execution_count": 49,
     "metadata": {},
     "output_type": "execute_result"
    },
    {
     "data": {
      "image/png": "[encoded data removed]",
      "text/plain": [
       "<matplotlib.figure.Figure at 0x7f128b5c0080>"
      ]
     },
     "metadata": {},
     "output_type": "display_data"
    }
   ],
   "source": [
    "%matplotlib inline\n",
    "import matplotlib.pyplot as plt\n",
    "plt.imshow(x_train[2], cmap='gray')"
   ]
  },
  {
   "cell_type": "code",
   "execution_count": 50,
   "metadata": {
    "collapsed": true
   },
   "outputs": [],
   "source": [
    "from keras.utils import to_categorical"
   ]
  },
  {
   "cell_type": "code",
   "execution_count": 51,
   "metadata": {
    "collapsed": true
   },
   "outputs": [],
   "source": [
    "y_train = to_categorical(y_train)"
   ]
  },
  {
   "cell_type": "code",
   "execution_count": 52,
   "metadata": {},
   "outputs": [
    {
     "data": {
      "text/plain": [
       "(60000, 10)"
      ]
     },
     "execution_count": 52,
     "metadata": {},
     "output_type": "execute_result"
    }
   ],
   "source": [
    "y_train.shape"
   ]
  },
  {
   "cell_type": "code",
   "execution_count": 53,
   "metadata": {},
   "outputs": [
    {
     "data": {
      "text/plain": [
       "array([ 0.,  0.,  0.,  0.,  0.,  1.,  0.,  0.,  0.,  0.])"
      ]
     },
     "execution_count": 53,
     "metadata": {},
     "output_type": "execute_result"
    }
   ],
   "source": [
    "y_train[0]"
   ]
  },
  {
   "cell_type": "code",
   "execution_count": 54,
   "metadata": {
    "collapsed": true
   },
   "outputs": [],
   "source": [
    "x_train = x_train.reshape(60000, 784)"
   ]
  },
  {
   "cell_type": "code",
   "execution_count": 55,
   "metadata": {},
   "outputs": [
    {
     "data": {
      "text/plain": [
       "(60000, 784)"
      ]
     },
     "execution_count": 55,
     "metadata": {},
     "output_type": "execute_result"
    }
   ],
   "source": [
    "x_train.shape"
   ]
  },
  {
   "cell_type": "markdown",
   "metadata": {},
   "source": [
    "model = Sequential()\n",
    "model.add(Dense(10, input_shape = (784,), activation='softmax'))\n",
    "model.compile(loss = keras.losses.categorical_crossentropy, metrics=['accuracy'], optimizer='SGD')\n",
    "model.fit(x_train, y_train, epochs=epochs, batch_size=32)"
   ]
  },
  {
   "cell_type": "code",
   "execution_count": 67,
   "metadata": {},
   "outputs": [
    {
     "name": "stdout",
     "output_type": "stream",
     "text": [
      "Epoch 1/100\n",
      "60000/60000 [==============================] - 1s 12us/step - loss: 13.6549 - acc: 0.1417\n",
      "Epoch 2/100\n",
      "60000/60000 [==============================] - 0s 8us/step - loss: 12.1788 - acc: 0.2290\n",
      "Epoch 3/100\n",
      "60000/60000 [==============================] - 0s 8us/step - loss: 10.5622 - acc: 0.3300\n",
      "Epoch 4/100\n",
      "60000/60000 [==============================] - 1s 8us/step - loss: 10.3367 - acc: 0.3384\n",
      "Epoch 5/100\n",
      "60000/60000 [==============================] - 1s 11us/step - loss: 9.7633 - acc: 0.3692\n",
      "Epoch 6/100\n",
      "60000/60000 [==============================] - 1s 10us/step - loss: 8.8765 - acc: 0.4163\n",
      "Epoch 7/100\n",
      "60000/60000 [==============================] - 0s 8us/step - loss: 8.0856 - acc: 0.4673\n",
      "Epoch 8/100\n",
      "60000/60000 [==============================] - 0s 8us/step - loss: 7.5454 - acc: 0.5067\n",
      "Epoch 9/100\n",
      "60000/60000 [==============================] - 0s 8us/step - loss: 7.4064 - acc: 0.5157\n",
      "Epoch 10/100\n",
      "60000/60000 [==============================] - 1s 8us/step - loss: 7.3342 - acc: 0.5197\n",
      "Epoch 11/100\n",
      "60000/60000 [==============================] - 1s 9us/step - loss: 7.1722 - acc: 0.5301\n",
      "Epoch 12/100\n",
      "60000/60000 [==============================] - 1s 10us/step - loss: 7.1525 - acc: 0.5153\n",
      "Epoch 13/100\n",
      "60000/60000 [==============================] - 0s 8us/step - loss: 6.8749 - acc: 0.5322\n",
      "Epoch 14/100\n",
      "60000/60000 [==============================] - 0s 8us/step - loss: 6.2958 - acc: 0.5682\n",
      "Epoch 15/100\n",
      "60000/60000 [==============================] - 0s 8us/step - loss: 5.3178 - acc: 0.6120\n",
      "Epoch 16/100\n",
      "60000/60000 [==============================] - 0s 8us/step - loss: 4.8254 - acc: 0.6355\n",
      "Epoch 17/100\n",
      "60000/60000 [==============================] - 1s 8us/step - loss: 4.0110 - acc: 0.7014\n",
      "Epoch 18/100\n",
      "60000/60000 [==============================] - 0s 8us/step - loss: 3.9241 - acc: 0.7078\n",
      "Epoch 19/100\n",
      "60000/60000 [==============================] - 1s 8us/step - loss: 3.8625 - acc: 0.7122\n",
      "Epoch 20/100\n",
      "60000/60000 [==============================] - 1s 10us/step - loss: 3.7960 - acc: 0.7162\n",
      "Epoch 21/100\n",
      "60000/60000 [==============================] - 1s 9us/step - loss: 3.7300 - acc: 0.7178\n",
      "Epoch 22/100\n",
      "60000/60000 [==============================] - 0s 8us/step - loss: 3.3711 - acc: 0.7228\n",
      "Epoch 23/100\n",
      "60000/60000 [==============================] - 1s 8us/step - loss: 3.5918 - acc: 0.6774\n",
      "Epoch 24/100\n",
      "60000/60000 [==============================] - 0s 8us/step - loss: 2.4603 - acc: 0.7804\n",
      "Epoch 25/100\n",
      "60000/60000 [==============================] - 1s 8us/step - loss: 2.2117 - acc: 0.7933\n",
      "Epoch 26/100\n",
      "60000/60000 [==============================] - 0s 8us/step - loss: 1.2501 - acc: 0.8136\n",
      "Epoch 27/100\n",
      "60000/60000 [==============================] - 1s 10us/step - loss: 0.8762 - acc: 0.8469\n",
      "Epoch 28/100\n",
      "60000/60000 [==============================] - 1s 10us/step - loss: 0.7498 - acc: 0.8627\n",
      "Epoch 29/100\n",
      "60000/60000 [==============================] - 0s 8us/step - loss: 0.6747 - acc: 0.8725\n",
      "Epoch 30/100\n",
      "60000/60000 [==============================] - 1s 8us/step - loss: 0.6274 - acc: 0.8797\n",
      "Epoch 31/100\n",
      "60000/60000 [==============================] - 1s 8us/step - loss: 0.5884 - acc: 0.8851\n",
      "Epoch 32/100\n",
      "60000/60000 [==============================] - 0s 8us/step - loss: 0.5573 - acc: 0.8900\n",
      "Epoch 33/100\n",
      "60000/60000 [==============================] - 1s 8us/step - loss: 0.5310 - acc: 0.8934\n",
      "Epoch 34/100\n",
      "60000/60000 [==============================] - 1s 9us/step - loss: 0.5109 - acc: 0.8960\n",
      "Epoch 35/100\n",
      "60000/60000 [==============================] - 1s 9us/step - loss: 0.4928 - acc: 0.8981\n",
      "Epoch 36/100\n",
      "60000/60000 [==============================] - 1s 8us/step - loss: 0.4750 - acc: 0.9013\n",
      "Epoch 37/100\n",
      "60000/60000 [==============================] - 1s 11us/step - loss: 0.4588 - acc: 0.9032\n",
      "Epoch 38/100\n",
      "60000/60000 [==============================] - 1s 9us/step - loss: 0.4443 - acc: 0.9062\n",
      "Epoch 39/100\n",
      "60000/60000 [==============================] - 1s 13us/step - loss: 0.4323 - acc: 0.9066\n",
      "Epoch 40/100\n",
      "60000/60000 [==============================] - 1s 12us/step - loss: 0.4195 - acc: 0.9089\n",
      "Epoch 41/100\n",
      "60000/60000 [==============================] - 1s 8us/step - loss: 0.4089 - acc: 0.9103\n",
      "Epoch 42/100\n",
      "60000/60000 [==============================] - 0s 8us/step - loss: 0.3985 - acc: 0.9127\n",
      "Epoch 43/100\n",
      "60000/60000 [==============================] - 1s 9us/step - loss: 0.3898 - acc: 0.9131\n",
      "Epoch 44/100\n",
      "60000/60000 [==============================] - 1s 8us/step - loss: 0.3792 - acc: 0.9152\n",
      "Epoch 45/100\n",
      "60000/60000 [==============================] - 1s 11us/step - loss: 0.3721 - acc: 0.9172\n",
      "Epoch 46/100\n",
      "60000/60000 [==============================] - 1s 10us/step - loss: 0.3645 - acc: 0.9178\n",
      "Epoch 47/100\n",
      "60000/60000 [==============================] - 1s 8us/step - loss: 0.3564 - acc: 0.9196\n",
      "Epoch 48/100\n",
      "60000/60000 [==============================] - 1s 8us/step - loss: 0.3498 - acc: 0.9202\n",
      "Epoch 49/100\n",
      "60000/60000 [==============================] - 1s 8us/step - loss: 0.3440 - acc: 0.9219\n",
      "Epoch 50/100\n",
      "60000/60000 [==============================] - 0s 8us/step - loss: 0.3381 - acc: 0.9229\n",
      "Epoch 51/100\n",
      "60000/60000 [==============================] - 1s 8us/step - loss: 0.3327 - acc: 0.9240\n",
      "Epoch 52/100\n",
      "60000/60000 [==============================] - 1s 11us/step - loss: 0.3273 - acc: 0.9248\n",
      "Epoch 53/100\n",
      "60000/60000 [==============================] - 1s 11us/step - loss: 0.3216 - acc: 0.9268\n",
      "Epoch 54/100\n",
      "60000/60000 [==============================] - 1s 8us/step - loss: 0.3165 - acc: 0.9276\n",
      "Epoch 55/100\n",
      "60000/60000 [==============================] - 1s 9us/step - loss: 0.3123 - acc: 0.9279\n",
      "Epoch 56/100\n",
      "60000/60000 [==============================] - 1s 8us/step - loss: 0.3067 - acc: 0.9293\n",
      "Epoch 57/100\n",
      "60000/60000 [==============================] - 1s 8us/step - loss: 0.3036 - acc: 0.9296\n",
      "Epoch 58/100\n",
      "60000/60000 [==============================] - 1s 9us/step - loss: 0.2997 - acc: 0.9307\n",
      "Epoch 59/100\n",
      "60000/60000 [==============================] - 1s 12us/step - loss: 0.2951 - acc: 0.9315\n",
      "Epoch 60/100\n",
      "60000/60000 [==============================] - 1s 10us/step - loss: 0.2919 - acc: 0.9316\n",
      "Epoch 61/100\n",
      "60000/60000 [==============================] - 1s 10us/step - loss: 0.2874 - acc: 0.9330\n",
      "Epoch 62/100\n",
      "60000/60000 [==============================] - 1s 8us/step - loss: 0.2838 - acc: 0.9337\n",
      "Epoch 63/100\n",
      "60000/60000 [==============================] - 1s 8us/step - loss: 0.2815 - acc: 0.9344\n",
      "Epoch 64/100\n",
      "60000/60000 [==============================] - 1s 9us/step - loss: 0.2775 - acc: 0.9350\n",
      "Epoch 65/100\n",
      "60000/60000 [==============================] - 1s 11us/step - loss: 0.2742 - acc: 0.9357\n",
      "Epoch 66/100\n",
      "60000/60000 [==============================] - 1s 10us/step - loss: 0.2712 - acc: 0.9365\n",
      "Epoch 67/100\n",
      "60000/60000 [==============================] - 1s 10us/step - loss: 0.2684 - acc: 0.9373\n",
      "Epoch 68/100\n",
      "60000/60000 [==============================] - 1s 8us/step - loss: 0.2651 - acc: 0.9382\n",
      "Epoch 69/100\n",
      "60000/60000 [==============================] - 0s 8us/step - loss: 0.2629 - acc: 0.9385\n",
      "Epoch 70/100\n",
      "60000/60000 [==============================] - 1s 8us/step - loss: 0.2603 - acc: 0.9390\n",
      "Epoch 71/100\n",
      "60000/60000 [==============================] - 1s 10us/step - loss: 0.2577 - acc: 0.9395\n",
      "Epoch 72/100\n",
      "60000/60000 [==============================] - 1s 10us/step - loss: 0.2556 - acc: 0.9399\n",
      "Epoch 73/100\n",
      "60000/60000 [==============================] - 0s 8us/step - loss: 0.2528 - acc: 0.9405\n",
      "Epoch 74/100\n",
      "60000/60000 [==============================] - 1s 9us/step - loss: 0.2506 - acc: 0.9413\n",
      "Epoch 75/100\n",
      "60000/60000 [==============================] - 1s 10us/step - loss: 0.2479 - acc: 0.9415\n",
      "Epoch 76/100\n",
      "60000/60000 [==============================] - 1s 8us/step - loss: 0.2459 - acc: 0.9420\n",
      "Epoch 77/100\n",
      "60000/60000 [==============================] - 1s 9us/step - loss: 0.2444 - acc: 0.9421\n",
      "Epoch 78/100\n",
      "60000/60000 [==============================] - 1s 8us/step - loss: 0.2416 - acc: 0.9429\n",
      "Epoch 79/100\n",
      "60000/60000 [==============================] - 1s 8us/step - loss: 0.2396 - acc: 0.9433\n",
      "Epoch 80/100\n",
      "60000/60000 [==============================] - 1s 8us/step - loss: 0.2370 - acc: 0.9438\n",
      "Epoch 81/100\n",
      "60000/60000 [==============================] - 1s 8us/step - loss: 0.2357 - acc: 0.9440\n",
      "Epoch 82/100\n",
      "60000/60000 [==============================] - 1s 8us/step - loss: 0.2329 - acc: 0.9450\n",
      "Epoch 83/100\n",
      "60000/60000 [==============================] - 0s 8us/step - loss: 0.2318 - acc: 0.9450\n",
      "Epoch 84/100\n",
      "60000/60000 [==============================] - 0s 8us/step - loss: 0.2298 - acc: 0.9458\n",
      "Epoch 85/100\n",
      "60000/60000 [==============================] - 0s 8us/step - loss: 0.2280 - acc: 0.9458\n",
      "Epoch 86/100\n",
      "60000/60000 [==============================] - 0s 8us/step - loss: 0.2258 - acc: 0.9466\n",
      "Epoch 87/100\n",
      "60000/60000 [==============================] - 0s 8us/step - loss: 0.2243 - acc: 0.9466\n",
      "Epoch 88/100\n",
      "60000/60000 [==============================] - 0s 8us/step - loss: 0.2228 - acc: 0.9463\n",
      "Epoch 89/100\n",
      "60000/60000 [==============================] - 0s 8us/step - loss: 0.2207 - acc: 0.9471\n",
      "Epoch 90/100\n",
      "60000/60000 [==============================] - 0s 8us/step - loss: 0.2191 - acc: 0.9479\n",
      "Epoch 91/100\n",
      "60000/60000 [==============================] - 0s 8us/step - loss: 0.2171 - acc: 0.9485\n",
      "Epoch 92/100\n",
      "60000/60000 [==============================] - 0s 8us/step - loss: 0.2162 - acc: 0.9483\n",
      "Epoch 93/100\n",
      "60000/60000 [==============================] - 0s 8us/step - loss: 0.2144 - acc: 0.9485\n",
      "Epoch 94/100\n",
      "60000/60000 [==============================] - 0s 8us/step - loss: 0.2125 - acc: 0.9490\n",
      "Epoch 95/100\n",
      "60000/60000 [==============================] - 0s 8us/step - loss: 0.2113 - acc: 0.9494\n",
      "Epoch 96/100\n",
      "60000/60000 [==============================] - 0s 8us/step - loss: 0.2098 - acc: 0.9496\n",
      "Epoch 97/100\n",
      "60000/60000 [==============================] - 0s 8us/step - loss: 0.2080 - acc: 0.9504\n",
      "Epoch 98/100\n",
      "60000/60000 [==============================] - 0s 8us/step - loss: 0.2067 - acc: 0.9508\n",
      "Epoch 99/100\n",
      "60000/60000 [==============================] - 0s 8us/step - loss: 0.2058 - acc: 0.9506\n",
      "Epoch 100/100\n",
      "60000/60000 [==============================] - 1s 10us/step - loss: 0.2039 - acc: 0.9509\n"
     ]
    },
    {
     "data": {
      "text/plain": [
       "<keras.callbacks.History at 0x7f12891abfd0>"
      ]
     },
     "execution_count": 67,
     "metadata": {},
     "output_type": "execute_result"
    }
   ],
   "source": [
    "model = Sequential()\n",
    "model.add(Dense(128, input_shape = (784,), activation='relu'))\n",
    "model.add(Dense(64, activation='relu'))\n",
    "model.add(Dense(32, activation='relu'))\n",
    "model.add(Dense(10, activation='softmax'))\n",
    "model.compile(loss = keras.losses.categorical_crossentropy, metrics=['accuracy'], optimizer='sgd')\n",
    "model.fit(x_train, y_train, epochs=100, batch_size=10000)"
   ]
  },
  {
   "cell_type": "markdown",
   "metadata": {},
   "source": [
    "# With CNN"
   ]
  },
  {
   "cell_type": "code",
   "execution_count": 2,
   "metadata": {},
   "outputs": [],
   "source": [
    "(x_train, y_train), (x_test, y_test) = mnist.load_data()"
   ]
  },
  {
   "cell_type": "code",
   "execution_count": 3,
   "metadata": {},
   "outputs": [],
   "source": [
    "y_train = to_categorical(y_train)"
   ]
  },
  {
   "cell_type": "code",
   "execution_count": 4,
   "metadata": {},
   "outputs": [],
   "source": [
    "x_train = x_train.reshape((60000, 28, 28, 1))"
   ]
  },
  {
   "cell_type": "code",
   "execution_count": 5,
   "metadata": {},
   "outputs": [
    {
     "data": {
      "text/plain": [
       "(28, 28, 1)"
      ]
     },
     "execution_count": 5,
     "metadata": {},
     "output_type": "execute_result"
    }
   ],
   "source": [
    "x_train[0].shape"
   ]
  },
  {
   "cell_type": "code",
   "execution_count": 6,
   "metadata": {},
   "outputs": [
    {
     "name": "stdout",
     "output_type": "stream",
     "text": [
      "Epoch 1/10\n",
      "60000/60000 [==============================] - 11s 187us/step - loss: 3.3107 - acc: 0.7730\n",
      "Epoch 2/10\n",
      "60000/60000 [==============================] - 8s 135us/step - loss: 0.0527 - acc: 0.9841\n",
      "Epoch 3/10\n",
      "60000/60000 [==============================] - 8s 134us/step - loss: 0.0271 - acc: 0.9910\n",
      "Epoch 4/10\n",
      "60000/60000 [==============================] - 8s 134us/step - loss: 0.0141 - acc: 0.9956\n",
      "Epoch 5/10\n",
      "60000/60000 [==============================] - 8s 136us/step - loss: 0.0095 - acc: 0.9970\n",
      "Epoch 6/10\n",
      "60000/60000 [==============================] - 8s 141us/step - loss: 0.0052 - acc: 0.9986\n",
      "Epoch 7/10\n",
      "60000/60000 [==============================] - 8s 134us/step - loss: 0.0036 - acc: 0.9989\n",
      "Epoch 8/10\n",
      "60000/60000 [==============================] - 8s 131us/step - loss: 0.0029 - acc: 0.9991\n",
      "Epoch 9/10\n",
      "60000/60000 [==============================] - 8s 130us/step - loss: 0.0036 - acc: 0.9988\n",
      "Epoch 10/10\n",
      "60000/60000 [==============================] - 8s 129us/step - loss: 0.0018 - acc: 0.9995\n"
     ]
    },
    {
     "data": {
      "text/plain": [
       "<keras.callbacks.History at 0x7fb1e0d44860>"
      ]
     },
     "execution_count": 6,
     "metadata": {},
     "output_type": "execute_result"
    }
   ],
   "source": [
    "model = Sequential()\n",
    "model.add(Conv2D(32, kernel_size=(3, 3), activation='relu', input_shape = x_train[0].shape))\n",
    "model.add(Conv2D(64, kernel_size=(3, 3), activation='relu'))\n",
    "model.add(MaxPooling2D(pool_size=(2, 2)))\n",
    "model.add(Flatten())\n",
    "model.add(Dense(128, activation='relu'))\n",
    "model.add(Dense(10, activation='softmax'))\n",
    "\n",
    "model.compile(loss='categorical_crossentropy', optimizer='adamax', metrics=['accuracy'])\n",
    "model.fit(x_train, y_train, epochs=10, batch_size=128)"
   ]
  },
  {
   "cell_type": "code",
   "execution_count": 79,
   "metadata": {},
   "outputs": [
    {
     "data": {
      "text/plain": [
       "array([[  5.47697738e-12,   3.98788749e-13,   1.89338412e-09, ...,\n",
       "          9.99999881e-01,   2.24617214e-10,   1.59004436e-08],\n",
       "       [  1.54734017e-10,   2.40348204e-08,   1.00000000e+00, ...,\n",
       "          6.67806587e-19,   6.57986887e-10,   5.21712527e-16],\n",
       "       [  8.68864713e-15,   9.99999404e-01,   1.66231651e-08, ...,\n",
       "          4.63452221e-10,   5.82207861e-07,   1.97980469e-11],\n",
       "       ..., \n",
       "       [  1.68286981e-14,   6.01942940e-11,   6.12165365e-15, ...,\n",
       "          5.36994493e-09,   4.06898799e-08,   9.80910926e-08],\n",
       "       [  1.23837451e-09,   3.70683692e-11,   9.77595175e-13, ...,\n",
       "          6.18598163e-13,   2.98625255e-05,   1.72491896e-10],\n",
       "       [  1.99371414e-07,   1.19770366e-11,   9.41843723e-08, ...,\n",
       "          1.62612328e-13,   2.93179710e-07,   1.90112908e-11]], dtype=float32)"
      ]
     },
     "execution_count": 79,
     "metadata": {},
     "output_type": "execute_result"
    }
   ],
   "source": [
    "probs"
   ]
  },
  {
   "cell_type": "code",
   "execution_count": 80,
   "metadata": {
    "collapsed": true
   },
   "outputs": [],
   "source": [
    "import numpy as np"
   ]
  },
  {
   "cell_type": "code",
   "execution_count": 82,
   "metadata": {},
   "outputs": [
    {
     "data": {
      "text/plain": [
       "array([7, 2, 1, ..., 4, 5, 6])"
      ]
     },
     "execution_count": 82,
     "metadata": {},
     "output_type": "execute_result"
    }
   ],
   "source": [
    "np.argmax(probs, axis=1)"
   ]
  },
  {
   "cell_type": "code",
   "execution_count": 87,
   "metadata": {},
   "outputs": [
    {
     "data": {
      "text/plain": [
       "<matplotlib.image.AxesImage at 0x7f127c35f898>"
      ]
     },
     "execution_count": 87,
     "metadata": {},
     "output_type": "execute_result"
    },
    {
     "data": {
      "image/png": "[encoded data removed]",
      "text/plain": [
       "<matplotlib.figure.Figure at 0x7f127c3a2f60>"
      ]
     },
     "metadata": {},
     "output_type": "display_data"
    }
   ],
   "source": [
    "plt.imshow(x_test[0])"
   ]
  },
  {
   "cell_type": "code",
   "execution_count": 88,
   "metadata": {},
   "outputs": [
    {
     "data": {
      "text/plain": [
       "(10000, 10)"
      ]
     },
     "execution_count": 88,
     "metadata": {},
     "output_type": "execute_result"
    }
   ],
   "source": [
    "probs.shape"
   ]
  },
  {
   "cell_type": "code",
   "execution_count": 90,
   "metadata": {},
   "outputs": [
    {
     "data": {
      "text/plain": [
       "'2.1.2'"
      ]
     },
     "execution_count": 90,
     "metadata": {},
     "output_type": "execute_result"
    }
   ],
   "source": [
    "keras.__version__"
   ]
  },
  {
   "cell_type": "markdown",
   "metadata": {},
   "source": [
    "# Validation"
   ]
  },
  {
   "cell_type": "code",
   "execution_count": 8,
   "metadata": {},
   "outputs": [],
   "source": [
    "x_test = x_test.reshape(10000, 28, 28, 1)\n",
    "y_test = to_categorical(y_test)"
   ]
  },
  {
   "cell_type": "code",
   "execution_count": 9,
   "metadata": {},
   "outputs": [
    {
     "name": "stdout",
     "output_type": "stream",
     "text": [
      "Train on 60000 samples, validate on 10000 samples\n",
      "Epoch 1/10\n",
      "60000/60000 [==============================] - 9s 151us/step - loss: 7.8056 - acc: 0.4888 - val_loss: 0.1323 - val_acc: 0.9608\n",
      "Epoch 2/10\n",
      "60000/60000 [==============================] - 9s 150us/step - loss: 0.0773 - acc: 0.9769 - val_loss: 0.0524 - val_acc: 0.9812\n",
      "Epoch 3/10\n",
      "60000/60000 [==============================] - 9s 150us/step - loss: 0.0343 - acc: 0.9893 - val_loss: 0.0482 - val_acc: 0.9841\n",
      "Epoch 4/10\n",
      "60000/60000 [==============================] - 9s 152us/step - loss: 0.0187 - acc: 0.9941 - val_loss: 0.0467 - val_acc: 0.9865\n",
      "Epoch 5/10\n",
      "60000/60000 [==============================] - 9s 153us/step - loss: 0.0097 - acc: 0.9968 - val_loss: 0.0505 - val_acc: 0.9864\n",
      "Epoch 6/10\n",
      "60000/60000 [==============================] - 9s 148us/step - loss: 0.0064 - acc: 0.9980 - val_loss: 0.0529 - val_acc: 0.9869\n",
      "Epoch 7/10\n",
      "60000/60000 [==============================] - 9s 142us/step - loss: 0.0039 - acc: 0.9988 - val_loss: 0.0547 - val_acc: 0.9875\n",
      "Epoch 8/10\n",
      "60000/60000 [==============================] - 9s 145us/step - loss: 0.0021 - acc: 0.9992 - val_loss: 0.0592 - val_acc: 0.9856\n",
      "Epoch 9/10\n",
      "60000/60000 [==============================] - 9s 147us/step - loss: 0.0022 - acc: 0.9992 - val_loss: 0.0623 - val_acc: 0.9861\n",
      "Epoch 10/10\n",
      "60000/60000 [==============================] - 9s 145us/step - loss: 0.0013 - acc: 0.9996 - val_loss: 0.0578 - val_acc: 0.9889\n"
     ]
    },
    {
     "data": {
      "text/plain": [
       "<keras.callbacks.History at 0x7fb2504e86a0>"
      ]
     },
     "execution_count": 9,
     "metadata": {},
     "output_type": "execute_result"
    }
   ],
   "source": [
    "model = Sequential()\n",
    "model.add(Conv2D(32, kernel_size=(3, 3), activation='relu', input_shape = x_train[0].shape))\n",
    "model.add(Conv2D(64, kernel_size=(3, 3), activation='relu'))\n",
    "model.add(MaxPooling2D(pool_size=(2, 2)))\n",
    "model.add(Flatten())\n",
    "model.add(Dense(128, activation='relu'))\n",
    "model.add(Dense(10, activation='softmax'))\n",
    "\n",
    "model.compile(loss='categorical_crossentropy', optimizer='adamax', metrics=['accuracy'])\n",
    "model.fit(x_train, y_train, epochs=10, batch_size=128, validation_data=(x_test, y_test))"
   ]
  },
  {
   "cell_type": "code",
   "execution_count": null,
   "metadata": {
    "collapsed": true
   },
   "outputs": [],
   "source": []
  }
 ],
 "metadata": {
  "kernelspec": {
   "display_name": "Python 3",
   "language": "python",
   "name": "python3"
  },
  "language_info": {
   "codemirror_mode": {
    "name": "ipython",
    "version": 3
   },
   "file_extension": ".py",
   "mimetype": "text/x-python",
   "name": "python",
   "nbconvert_exporter": "python",
   "pygments_lexer": "ipython3",
   "version": "3.5.2"
  }
 },
 "nbformat": 4,
 "nbformat_minor": 2
}
